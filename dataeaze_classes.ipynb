{
 "cells": [
  {
   "cell_type": "code",
   "execution_count": 13,
   "id": "4a217890",
   "metadata": {},
   "outputs": [],
   "source": [
    "import MySQLdb\n",
    "import pandas as pd\n",
    "import csv\n",
    "import pymysql\n",
    "import json\n",
    "\n",
    "class connectmysql:\n",
    "    def __init__(self,host,username,password,database):\n",
    "        self.host=host\n",
    "        self.username=username\n",
    "        self.password=password\n",
    "        self.database=database\n",
    "    \n",
    "    def convert(self,filepath):\n",
    "        df=pd.read_csv(filepath)\n",
    "        db = pymysql.connect(host=self.host,user=self.username,password=self.password,database=self.database)\n",
    "        cursor = db.cursor() \n",
    "        \n",
    "        for index,row in df.iterrows():\n",
    "            cursor.execute(\"insert into fuel1(hp,mpg,vol,sp,wt) values(%s,%s,%s,%s,%s)\",(row[0],row[1],row[2],row[3],row[4]))\n",
    "            \n",
    "        print('complete')\n",
    "        db.commit()\n",
    "        \n",
    "        \n",
    "        "
   ]
  },
  {
   "cell_type": "code",
   "execution_count": 14,
   "id": "82a0b768",
   "metadata": {},
   "outputs": [],
   "source": [
    "cd=connectmysql(\"localhost\",\"root\",\"Apple@098\",\"dbase\")# passing parameter"
   ]
  },
  {
   "cell_type": "code",
   "execution_count": 15,
   "id": "91bcba03",
   "metadata": {},
   "outputs": [
    {
     "name": "stdout",
     "output_type": "stream",
     "text": [
      "complete\n"
     ]
    }
   ],
   "source": [
    "cd.convert(\"C:\\\\Users\\\\HP\\\\Desktop\\\\Excel R data sets\\\\Cars.csv\")# passing csv file path"
   ]
  },
  {
   "cell_type": "code",
   "execution_count": null,
   "id": "a8e90f3e",
   "metadata": {},
   "outputs": [],
   "source": []
  },
  {
   "cell_type": "code",
   "execution_count": null,
   "id": "9b826571",
   "metadata": {},
   "outputs": [],
   "source": []
  },
  {
   "cell_type": "code",
   "execution_count": null,
   "id": "101b634d",
   "metadata": {},
   "outputs": [],
   "source": []
  },
  {
   "cell_type": "code",
   "execution_count": null,
   "id": "488c56d9",
   "metadata": {},
   "outputs": [],
   "source": []
  }
 ],
 "metadata": {
  "kernelspec": {
   "display_name": "Python 3 (ipykernel)",
   "language": "python",
   "name": "python3"
  },
  "language_info": {
   "codemirror_mode": {
    "name": "ipython",
    "version": 3
   },
   "file_extension": ".py",
   "mimetype": "text/x-python",
   "name": "python",
   "nbconvert_exporter": "python",
   "pygments_lexer": "ipython3",
   "version": "3.8.8"
  }
 },
 "nbformat": 4,
 "nbformat_minor": 5
}
